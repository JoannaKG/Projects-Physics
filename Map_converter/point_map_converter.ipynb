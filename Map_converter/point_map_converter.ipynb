{
 "cells": [
  {
   "cell_type": "code",
   "execution_count": 1,
   "metadata": {},
   "outputs": [],
   "source": [
    "import pandas as pd\n",
    "import numpy as np"
   ]
  },
  {
   "cell_type": "code",
   "execution_count": 2,
   "metadata": {
    "pycharm": {
     "name": "#%%\n"
    }
   },
   "outputs": [],
   "source": [
    "df = pd.read_csv('01_ml_circ_polarizer_1power_6sx10_linescan.txt', sep='\\t', skiprows=[0,1], header=None)"
   ]
  },
  {
   "cell_type": "code",
   "execution_count": 3,
   "metadata": {
    "pycharm": {
     "name": "#%%\n"
    }
   },
   "outputs": [
    {
     "name": "stdout",
     "output_type": "stream",
     "text": [
      "17\n"
     ]
    }
   ],
   "source": [
    "a = 0\n",
    "size_of_acquisitions = 1015\n",
    "number_of_rows = df.shape[0]\n",
    "number_of_acquisitions = int(number_of_rows / size_of_acquisitions)\n",
    "print(number_of_acquisitions)\n",
    "\n",
    "def cutter(a, i):\n",
    "    df2 = df[[2, 3]].loc[a:a + 1014]\n",
    "    writer = ('01_ml_circ_polarizer_1power_6sx10_linescan_' + str(i + 1) + '_X=' + str(np.round(df.at[a, 0],2)) + '_Y=' + str(np.round(df.at[a, 1],2)) + '.txt')\n",
    "    df2.to_csv(writer, index=False, header=[str(np.round(df.at[a, 0],2)),str(np.round(df.at[a, 1],2))])\n",
    "\n",
    "\n",
    "for i in range(number_of_acquisitions):\n",
    "    cutter(a, i)\n",
    "    a += size_of_acquisitions"
   ]
  }
 ],
 "metadata": {
  "kernelspec": {
   "display_name": "Python 3",
   "language": "python",
   "name": "python3"
  },
  "language_info": {
   "codemirror_mode": {
    "name": "ipython",
    "version": 3
   },
   "file_extension": ".py",
   "mimetype": "text/x-python",
   "name": "python",
   "nbconvert_exporter": "python",
   "pygments_lexer": "ipython3",
   "version": "3.9.0"
  }
 },
 "nbformat": 4,
 "nbformat_minor": 1
}